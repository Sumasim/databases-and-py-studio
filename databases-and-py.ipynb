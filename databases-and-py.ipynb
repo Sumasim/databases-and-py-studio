{
    "metadata": {
        "kernelspec": {
            "name": "python3",
            "display_name": "Python 3 (ipykernel)",
            "language": "python"
        },
        "language_info": {
            "name": "python",
            "version": "3.10.9",
            "mimetype": "text/x-python",
            "codemirror_mode": {
                "name": "ipython",
                "version": 3
            },
            "pygments_lexer": "ipython3",
            "nbconvert_exporter": "python",
            "file_extension": ".py"
        }
    },
    "nbformat_minor": 2,
    "nbformat": 4,
    "cells": [
        {
            "cell_type": "markdown",
            "source": [
                "# Studio: Working with Databases in Python\n",
                "\n",
                "For today's studio, we will be using the [TV Shows dataset](https://www.kaggle.com/ruchi798/tv-shows-on-netflix-prime-video-hulu-and-disney) from Kaggle. We have already downloaded the CSV for you.\n",
                "\n",
                "You will also be using the watchlist you just created to figure out which streaming services contain the shows that you want to watch next so you can decide which one is worth the money to you.\n",
                "\n",
                "As you complete the different tasks in the studio, you may choose between using Pandas or SQL. Remember that during the prep work, we learned that one is oftentimes more efficient at certain tasks than the other, so choose wisely!"
            ],
            "metadata": {
                "azdata_cell_guid": "54326aff-51cd-4766-8046-828a92489c6d"
            },
            "attachments": {}
        },
        {
            "cell_type": "markdown",
            "source": [
                "## My Watchlist\n",
                "\n",
                "If you would like, please use this space to make note of your watchlist by editing the text cell."
            ],
            "metadata": {
                "azdata_cell_guid": "00bc62ef-6c46-40a2-bdad-a3250a003ce7"
            },
            "attachments": {}
        },
        {
            "cell_type": "markdown",
            "source": [
                "Stranger things\n",
                "\n",
                "Gilmore Girls\n",
                "\n",
                "13 reasons why\n",
                "\n",
                "Beauty and the Beast\n",
                "\n",
                "Kung Fu Panda: Legends of Awesomeness\n",
                "\n",
                "Family reunion\n",
                "\n",
                "Chosen\n",
                "\n",
                "Merlin\n",
                "\n",
                "A Christmas Carol\n",
                "\n",
                "Supernatural"
            ],
            "metadata": {
                "azdata_cell_guid": "4b27c0a6-d625-429b-b728-c4908f4fa770"
            },
            "attachments": {}
        },
        {
            "cell_type": "markdown",
            "source": [
                "## Database Setup\n",
                "\n",
                "To start with, import the necessary libraries and create a dataframe from the provided CSV. Print the info out for the dataframe. After that, you may drop the column called `Unnamed: 0` and rename any columns with spaces in the names or unusual characters such as `\"+\"`. Print out the info for the dataframe again to ensure that your changes were effective."
            ],
            "metadata": {
                "azdata_cell_guid": "040bdac5-f7fc-474f-b112-1d807249ad0a"
            }
        },
        {
            "cell_type": "code",
            "source": [
                "import sqlite3 as sl \r\n",
                "import pandas as pd "
            ],
            "metadata": {
                "azdata_cell_guid": "965f15d3-27b1-43ed-97e4-8c6fd482476c",
                "tags": [],
                "language": "python"
            },
            "outputs": [],
            "execution_count": 3
        },
        {
            "cell_type": "code",
            "source": [
                "df = pd.read_csv(\"tv_shows.csv\")"
            ],
            "metadata": {
                "language": "python",
                "azdata_cell_guid": "b969f385-a3f6-48dd-9e8b-d7e26168ee0d"
            },
            "outputs": [],
            "execution_count": 6
        },
        {
            "cell_type": "code",
            "source": [
                "print(\"Info for the Original DataFrame:\")\r\n",
                "print(df.info())"
            ],
            "metadata": {
                "language": "python",
                "azdata_cell_guid": "d4970088-151a-4004-a86d-3973ec001e7e"
            },
            "outputs": [
                {
                    "name": "stdout",
                    "text": "Info for the Original DataFrame:\n<class 'pandas.core.frame.DataFrame'>\nRangeIndex: 5368 entries, 0 to 5367\nData columns (total 12 columns):\n #   Column           Non-Null Count  Dtype \n---  ------           --------------  ----- \n 0   Unnamed: 0       5368 non-null   int64 \n 1   ID               5368 non-null   int64 \n 2   Title            5368 non-null   object\n 3   Year             5368 non-null   int64 \n 4   Age              3241 non-null   object\n 5   IMDb             4406 non-null   object\n 6   Rotten Tomatoes  5368 non-null   object\n 7   Netflix          5368 non-null   int64 \n 8   Hulu             5368 non-null   int64 \n 9   Prime Video      5368 non-null   int64 \n 10  Disney+          5368 non-null   int64 \n 11  Type             5368 non-null   int64 \ndtypes: int64(8), object(4)\nmemory usage: 503.4+ KB\nNone\n",
                    "output_type": "stream"
                }
            ],
            "execution_count": 7
        },
        {
            "cell_type": "code",
            "source": [
                "df = df.drop(columns=['Unnamed: 0'])\r\n",
                ""
            ],
            "metadata": {
                "language": "python",
                "azdata_cell_guid": "fdb7b3e6-f2af-4646-b869-94145331e188"
            },
            "outputs": [],
            "execution_count": 8
        },
        {
            "cell_type": "code",
            "source": [
                "df = df.rename(columns={\r\n",
                "    'Rotten Tomatoes': 'Rotten_Tomatoes',\r\n",
                "    'Prime Video' : 'Prime_Video',\r\n",
                "    'Disney+': 'Disney'\r\n",
                "})"
            ],
            "metadata": {
                "language": "python",
                "azdata_cell_guid": "f51afa79-52c2-495d-b2be-a00fd6f61a8d"
            },
            "outputs": [],
            "execution_count": 9
        },
        {
            "cell_type": "code",
            "source": [
                "print(\"\\nInfo for the Updated DataFrame:\")\r\n",
                "print(df.info())"
            ],
            "metadata": {
                "language": "python",
                "azdata_cell_guid": "7f331ef1-da0b-49d8-ae34-3874189af484"
            },
            "outputs": [
                {
                    "name": "stdout",
                    "text": "\nInfo for the Updated DataFrame:\n<class 'pandas.core.frame.DataFrame'>\nRangeIndex: 5368 entries, 0 to 5367\nData columns (total 11 columns):\n #   Column           Non-Null Count  Dtype \n---  ------           --------------  ----- \n 0   ID               5368 non-null   int64 \n 1   Title            5368 non-null   object\n 2   Year             5368 non-null   int64 \n 3   Age              3241 non-null   object\n 4   IMDb             4406 non-null   object\n 5   Rotten_Tomatoes  5368 non-null   object\n 6   Netflix          5368 non-null   int64 \n 7   Hulu             5368 non-null   int64 \n 8   Prime_Video      5368 non-null   int64 \n 9   Disney           5368 non-null   int64 \n 10  Type             5368 non-null   int64 \ndtypes: int64(7), object(4)\nmemory usage: 461.4+ KB\nNone\n",
                    "output_type": "stream"
                }
            ],
            "execution_count": 10
        },
        {
            "cell_type": "markdown",
            "source": [
                "With your dataframe at the ready, create a new database called `tv`. Add a new table to your database called `shows` using the data in the dataframe. "
            ],
            "metadata": {
                "azdata_cell_guid": "93875e01-f1ec-45ab-b8b3-c0fe09c89c41"
            },
            "attachments": {}
        },
        {
            "cell_type": "code",
            "source": [
                "conn = sl.connect('tv.db')\r\n",
                "df.to_sql('shows1', conn)  "
            ],
            "metadata": {
                "azdata_cell_guid": "cae4affc-d930-4649-9c39-551475a83b5b",
                "tags": [],
                "language": "python"
            },
            "outputs": [
                {
                    "data": {
                        "text/plain": "5368"
                    },
                    "metadata": {},
                    "execution_count": 12,
                    "output_type": "execute_result"
                }
            ],
            "execution_count": 12
        },
        {
            "cell_type": "markdown",
            "source": [
                "With your new table and database set up, print out the top 20 records in the `shows` table."
            ],
            "metadata": {
                "azdata_cell_guid": "4916f211-149f-467b-b5e4-22ad946b54f2"
            },
            "attachments": {}
        },
        {
            "cell_type": "code",
            "source": [
                "with conn:\r\n",
                "    data = conn.execute(\"select * from shows limit 20\")\r\n",
                "    for row in data:\r\n",
                "        print(row)"
            ],
            "metadata": {
                "azdata_cell_guid": "c6aa3980-3eef-4d7d-8f04-961508662147",
                "tags": [],
                "language": "python"
            },
            "outputs": [
                {
                    "name": "stdout",
                    "text": "(0, 1, 'Breaking Bad', 2008, '18+', '9.4/10', '100/100', 1, 0, 0, 0, 1)\n(1, 2, 'Stranger Things', 2016, '16+', '8.7/10', '96/100', 1, 0, 0, 0, 1)\n(2, 3, 'Attack on Titan', 2013, '18+', '9.0/10', '95/100', 1, 1, 0, 0, 1)\n(3, 4, 'Better Call Saul', 2015, '18+', '8.8/10', '94/100', 1, 0, 0, 0, 1)\n(4, 5, 'Dark', 2017, '16+', '8.8/10', '93/100', 1, 0, 0, 0, 1)\n(5, 6, 'Avatar: The Last Airbender', 2005, '7+', '9.3/10', '93/100', 1, 0, 1, 0, 1)\n(6, 7, 'Peaky Blinders', 2013, '18+', '8.8/10', '93/100', 1, 0, 0, 0, 1)\n(7, 8, 'The Walking Dead', 2010, '18+', '8.2/10', '93/100', 1, 0, 0, 0, 1)\n(8, 9, 'Black Mirror', 2011, '18+', '8.8/10', '92/100', 1, 0, 0, 0, 1)\n(9, 10, \"The Queen's Gambit\", 2020, '18+', '8.6/10', '92/100', 1, 0, 0, 0, 1)\n(10, 11, 'Mindhunter', 2017, '18+', '8.6/10', '90/100', 1, 0, 0, 0, 1)\n(11, 12, 'Community', 2009, '7+', '8.5/10', '90/100', 1, 1, 1, 0, 1)\n(12, 13, 'Narcos', 2015, '18+', '8.8/10', '90/100', 1, 0, 0, 0, 1)\n(13, 14, 'Shameless', 2011, '18+', '8.5/10', '90/100', 1, 1, 1, 0, 1)\n(14, 15, 'Money Heist', 2017, '18+', '8.3/10', '90/100', 1, 0, 0, 0, 1)\n(15, 16, \"Marvel's Daredevil\", 2015, '18+', '8.6/10', '90/100', 1, 0, 0, 0, 1)\n(16, 17, 'Lucifer', 2016, '16+', '8.1/10', '90/100', 1, 0, 0, 0, 1)\n(17, 18, 'Supernatural', 2005, '16+', '8.4/10', '89/100', 1, 0, 0, 0, 1)\n(18, 19, 'The Witcher', 2019, '18+', '8.2/10', '89/100', 1, 0, 0, 0, 1)\n(19, 20, 'Ozark', 2017, '18+', '8.4/10', '89/100', 1, 0, 0, 0, 1)\n",
                    "output_type": "stream"
                }
            ],
            "execution_count": 13
        },
        {
            "cell_type": "markdown",
            "source": [
                "Now add a table that includes an id number and the titles on your watchlist."
            ],
            "metadata": {
                "azdata_cell_guid": "f158ccd2-c87a-4d2c-a947-0eadd0484a3e"
            },
            "attachments": {}
        },
        {
            "cell_type": "code",
            "source": [
                "with conn:\r\n",
                "    conn.execute(\"\"\"\r\n",
                "        CREATE TABLE watchlist1(\r\n",
                "            Id INTEGER NOT NULL PRIMARY KEY AUTOINCREMENT,\r\n",
                "            Title TEXT\r\n",
                "        )\r\n",
                "    \"\"\")"
            ],
            "metadata": {
                "azdata_cell_guid": "f95defad-521b-4112-8435-08daaac80b80",
                "language": "python"
            },
            "outputs": [],
            "execution_count": 15
        },
        {
            "cell_type": "code",
            "source": [
                "sql = 'INSERT INTO watchlist1 (Id, Title) values (?, ?)'\r\n",
                "data = [\r\n",
                "    (1, 'Stranger Things'),\r\n",
                "    (2, 'Gilmore Girls'),\r\n",
                "    (3, '13 reasons why'),\r\n",
                "    (4, 'Beauty and the Beast'),\r\n",
                "    (5, 'Supernatural'),\r\n",
                "    (6, 'Kung Fu Panda: Legends of Awesomeness'),\r\n",
                "    (7, 'Family reunion'),\r\n",
                "    (8, 'Chosen'),\r\n",
                "    (9, 'Merlin'),\r\n",
                "    (10, 'A Christmas Carol')\r\n",
                "]\r\n",
                "with conn:\r\n",
                "    conn.executemany(sql, data)\r\n",
                "\r\n",
                "\r\n",
                "\r\n",
                "\r\n",
                "\r\n",
                "\r\n",
                "\r\n",
                "\r\n",
                "\r\n",
                "\r\n",
                "\r\n",
                "\r\n",
                "\r\n",
                "\r\n",
                "\r\n",
                "\r\n",
                "\r\n",
                "\r\n",
                "\r\n",
                "\r\n",
                ""
            ],
            "metadata": {
                "azdata_cell_guid": "3b2e94ff-a422-4070-9fa5-b7ad753b23ff",
                "language": "python"
            },
            "outputs": [],
            "execution_count": 17
        },
        {
            "cell_type": "code",
            "source": [
                "pd.read_sql_query('SELECT * FROM watchlist1', conn)"
            ],
            "metadata": {
                "azdata_cell_guid": "39d4e83b-2d33-4697-9c09-6f6edbe74e16",
                "language": "python"
            },
            "outputs": [
                {
                    "data": {
                        "text/plain": "   Id                                  Title\n0   1                        Stranger Things\n1   2                          Gilmore Girls\n2   3                         13 reasons why\n3   4                   Beauty and the Beast\n4   5                           Supernatural\n5   6  Kung Fu Panda: Legends of Awesomeness\n6   7                         Family reunion\n7   8                                 Chosen\n8   9                                 Merlin\n9  10                      A Christmas Carol",
                        "text/html": "<div>\n<style scoped>\n    .dataframe tbody tr th:only-of-type {\n        vertical-align: middle;\n    }\n\n    .dataframe tbody tr th {\n        vertical-align: top;\n    }\n\n    .dataframe thead th {\n        text-align: right;\n    }\n</style>\n<table border=\"1\" class=\"dataframe\">\n  <thead>\n    <tr style=\"text-align: right;\">\n      <th></th>\n      <th>Id</th>\n      <th>Title</th>\n    </tr>\n  </thead>\n  <tbody>\n    <tr>\n      <th>0</th>\n      <td>1</td>\n      <td>Stranger Things</td>\n    </tr>\n    <tr>\n      <th>1</th>\n      <td>2</td>\n      <td>Gilmore Girls</td>\n    </tr>\n    <tr>\n      <th>2</th>\n      <td>3</td>\n      <td>13 reasons why</td>\n    </tr>\n    <tr>\n      <th>3</th>\n      <td>4</td>\n      <td>Beauty and the Beast</td>\n    </tr>\n    <tr>\n      <th>4</th>\n      <td>5</td>\n      <td>Supernatural</td>\n    </tr>\n    <tr>\n      <th>5</th>\n      <td>6</td>\n      <td>Kung Fu Panda: Legends of Awesomeness</td>\n    </tr>\n    <tr>\n      <th>6</th>\n      <td>7</td>\n      <td>Family reunion</td>\n    </tr>\n    <tr>\n      <th>7</th>\n      <td>8</td>\n      <td>Chosen</td>\n    </tr>\n    <tr>\n      <th>8</th>\n      <td>9</td>\n      <td>Merlin</td>\n    </tr>\n    <tr>\n      <th>9</th>\n      <td>10</td>\n      <td>A Christmas Carol</td>\n    </tr>\n  </tbody>\n</table>\n</div>"
                    },
                    "metadata": {},
                    "execution_count": 19,
                    "output_type": "execute_result"
                }
            ],
            "execution_count": 19
        },
        {
            "cell_type": "markdown",
            "source": [
                "## Working with the Data\n",
                "\n",
                "Using either Pandas or SQL, determine how many shows are on each streaming service and what the mean is for each streaming service. \n",
                "\n",
                "**Note**: You may notice that the mean represents the percentage of shows in the dataframe that are on each streaming service. Take a moment to think about why that is."
            ],
            "metadata": {
                "azdata_cell_guid": "4716090d-63e3-4283-8245-934c4a28c750"
            },
            "attachments": {}
        },
        {
            "cell_type": "code",
            "source": [
                "cols=['Netflix','Hulu','Prime_Video','Disney']\r\n",
                "df2 = df[cols].mean()\r\n",
                "df2"
            ],
            "metadata": {
                "azdata_cell_guid": "8e4f3757-474f-4e20-b861-db973437b541",
                "language": "python"
            },
            "outputs": [
                {
                    "data": {
                        "text/plain": "Netflix        0.367176\nHulu           0.301975\nPrime_Video    0.341095\nDisney         0.065387\ndtype: float64"
                    },
                    "metadata": {},
                    "execution_count": 21,
                    "output_type": "execute_result"
                }
            ],
            "execution_count": 21
        },
        {
            "cell_type": "markdown",
            "source": [
                "Join your watchlist data with the shows data to determine which streaming services your watchlist shows are on and make a new table in your database using the joined data. Print out the data in your joined table to see what shows on your watchlist on in the original dataset. With the joined data, determine the percentage of your watchlist shows that are on each streaming service and how many of your watchlist shows are on each streaming service."
            ],
            "metadata": {
                "azdata_cell_guid": "167cbd0d-ad9f-4f27-8066-e45dfdfaf421"
            },
            "attachments": {}
        },
        {
            "cell_type": "code",
            "source": [
                "df3 = pd.read_sql_query('SELECT * FROM shows1 JOIN watchlist1 ON shows1.Title = watchlist1.Title', conn)\r\n",
                "df3"
            ],
            "metadata": {
                "azdata_cell_guid": "b871523e-a476-4f3a-a6ac-2e251f140e84",
                "language": "python"
            },
            "outputs": [
                {
                    "data": {
                        "text/plain": "   index    ID                                  Title  Year   Age    IMDb  \\\n0      1     2                        Stranger Things  2016   16+  8.7/10   \n1     17    18                           Supernatural  2005   16+  8.4/10   \n2     67    68                          Gilmore Girls  2000   16+  8.1/10   \n3    178   179                                 Merlin  2008    7+  7.9/10   \n4    321   323                   Beauty and the Beast  2012    7+  7.0/10   \n5    831   834  Kung Fu Panda: Legends of Awesomeness  2011    7+  6.8/10   \n6   1636  1642                                 Chosen  2018  None  5.5/10   \n7   2682  2786                      A Christmas Carol  2019   18+  7.2/10   \n\n  Rotten_Tomatoes  Netflix  Hulu  Prime_Video  Disney  Type  Id  \\\n0          96/100        1     0            0       0     1   1   \n1          89/100        1     0            0       0     1   5   \n2          84/100        1     0            0       0     1   2   \n3          75/100        1     1            1       0     1   9   \n4          69/100        1     0            0       1     1   4   \n5          55/100        1     0            0       0     1   6   \n6          39/100        1     0            1       0     1   8   \n7          54/100        0     1            0       1     1  10   \n\n                                   Title  \n0                        Stranger Things  \n1                           Supernatural  \n2                          Gilmore Girls  \n3                                 Merlin  \n4                   Beauty and the Beast  \n5  Kung Fu Panda: Legends of Awesomeness  \n6                                 Chosen  \n7                      A Christmas Carol  ",
                        "text/html": "<div>\n<style scoped>\n    .dataframe tbody tr th:only-of-type {\n        vertical-align: middle;\n    }\n\n    .dataframe tbody tr th {\n        vertical-align: top;\n    }\n\n    .dataframe thead th {\n        text-align: right;\n    }\n</style>\n<table border=\"1\" class=\"dataframe\">\n  <thead>\n    <tr style=\"text-align: right;\">\n      <th></th>\n      <th>index</th>\n      <th>ID</th>\n      <th>Title</th>\n      <th>Year</th>\n      <th>Age</th>\n      <th>IMDb</th>\n      <th>Rotten_Tomatoes</th>\n      <th>Netflix</th>\n      <th>Hulu</th>\n      <th>Prime_Video</th>\n      <th>Disney</th>\n      <th>Type</th>\n      <th>Id</th>\n      <th>Title</th>\n    </tr>\n  </thead>\n  <tbody>\n    <tr>\n      <th>0</th>\n      <td>1</td>\n      <td>2</td>\n      <td>Stranger Things</td>\n      <td>2016</td>\n      <td>16+</td>\n      <td>8.7/10</td>\n      <td>96/100</td>\n      <td>1</td>\n      <td>0</td>\n      <td>0</td>\n      <td>0</td>\n      <td>1</td>\n      <td>1</td>\n      <td>Stranger Things</td>\n    </tr>\n    <tr>\n      <th>1</th>\n      <td>17</td>\n      <td>18</td>\n      <td>Supernatural</td>\n      <td>2005</td>\n      <td>16+</td>\n      <td>8.4/10</td>\n      <td>89/100</td>\n      <td>1</td>\n      <td>0</td>\n      <td>0</td>\n      <td>0</td>\n      <td>1</td>\n      <td>5</td>\n      <td>Supernatural</td>\n    </tr>\n    <tr>\n      <th>2</th>\n      <td>67</td>\n      <td>68</td>\n      <td>Gilmore Girls</td>\n      <td>2000</td>\n      <td>16+</td>\n      <td>8.1/10</td>\n      <td>84/100</td>\n      <td>1</td>\n      <td>0</td>\n      <td>0</td>\n      <td>0</td>\n      <td>1</td>\n      <td>2</td>\n      <td>Gilmore Girls</td>\n    </tr>\n    <tr>\n      <th>3</th>\n      <td>178</td>\n      <td>179</td>\n      <td>Merlin</td>\n      <td>2008</td>\n      <td>7+</td>\n      <td>7.9/10</td>\n      <td>75/100</td>\n      <td>1</td>\n      <td>1</td>\n      <td>1</td>\n      <td>0</td>\n      <td>1</td>\n      <td>9</td>\n      <td>Merlin</td>\n    </tr>\n    <tr>\n      <th>4</th>\n      <td>321</td>\n      <td>323</td>\n      <td>Beauty and the Beast</td>\n      <td>2012</td>\n      <td>7+</td>\n      <td>7.0/10</td>\n      <td>69/100</td>\n      <td>1</td>\n      <td>0</td>\n      <td>0</td>\n      <td>1</td>\n      <td>1</td>\n      <td>4</td>\n      <td>Beauty and the Beast</td>\n    </tr>\n    <tr>\n      <th>5</th>\n      <td>831</td>\n      <td>834</td>\n      <td>Kung Fu Panda: Legends of Awesomeness</td>\n      <td>2011</td>\n      <td>7+</td>\n      <td>6.8/10</td>\n      <td>55/100</td>\n      <td>1</td>\n      <td>0</td>\n      <td>0</td>\n      <td>0</td>\n      <td>1</td>\n      <td>6</td>\n      <td>Kung Fu Panda: Legends of Awesomeness</td>\n    </tr>\n    <tr>\n      <th>6</th>\n      <td>1636</td>\n      <td>1642</td>\n      <td>Chosen</td>\n      <td>2018</td>\n      <td>None</td>\n      <td>5.5/10</td>\n      <td>39/100</td>\n      <td>1</td>\n      <td>0</td>\n      <td>1</td>\n      <td>0</td>\n      <td>1</td>\n      <td>8</td>\n      <td>Chosen</td>\n    </tr>\n    <tr>\n      <th>7</th>\n      <td>2682</td>\n      <td>2786</td>\n      <td>A Christmas Carol</td>\n      <td>2019</td>\n      <td>18+</td>\n      <td>7.2/10</td>\n      <td>54/100</td>\n      <td>0</td>\n      <td>1</td>\n      <td>0</td>\n      <td>1</td>\n      <td>1</td>\n      <td>10</td>\n      <td>A Christmas Carol</td>\n    </tr>\n  </tbody>\n</table>\n</div>"
                    },
                    "metadata": {},
                    "execution_count": 22,
                    "output_type": "execute_result"
                }
            ],
            "execution_count": 22
        },
        {
            "cell_type": "code",
            "source": [
                "cols=['Netflix', 'Hulu', 'Prime_Video', 'Disney']\r\n",
                "df4 = df3[cols].mean()\r\n",
                "df4"
            ],
            "metadata": {
                "azdata_cell_guid": "4fb03496-599d-40ac-a152-22daa0eb5283",
                "language": "python"
            },
            "outputs": [
                {
                    "data": {
                        "text/plain": "Netflix        0.875\nHulu           0.250\nPrime_Video    0.250\nDisney         0.250\ndtype: float64"
                    },
                    "metadata": {},
                    "execution_count": 24,
                    "output_type": "execute_result"
                }
            ],
            "execution_count": 24
        },
        {
            "cell_type": "code",
            "source": [
                "conn.close()"
            ],
            "metadata": {
                "azdata_cell_guid": "e483dc5e-c783-492c-bcdb-3408cfe63563",
                "language": "python"
            },
            "outputs": [],
            "execution_count": 26
        },
        {
            "cell_type": "markdown",
            "source": [
                "## Results\n",
                "\n",
                "Now that you have done your analysis, make note of the answers to the following questions by editing the text cell:\n",
                "\n",
                "1. Was every show on your watchlist in the Kaggle dataset? Do you have any ideas as to why a show might not have been present? Yes\n",
                "2. Did you include a show or shows in your watchlist that is exclusive to one of the platforms? How might that have impacted your analysis? Yes\n",
                "3. Which streaming service(s) offered the most shows on your watchlist? Which streaming service(s) offered the least? Netflix offered the shows that are on my watchlist. Hulu and Disney had the least.\n",
                "4. Based on the shows you want to watch and the results of your analysis, is there a streaming service you think would be a good fit for you? Netflix will be a better option because it offers most of the shows on my watchlist."
            ],
            "metadata": {
                "azdata_cell_guid": "909689e4-1aae-41e3-b1f8-158ebe5ec3ca"
            },
            "attachments": {}
        }
    ]
}